{
 "cells": [
  {
   "cell_type": "code",
   "execution_count": 1,
   "metadata": {},
   "outputs": [
    {
     "name": "stdout",
     "output_type": "stream",
     "text": [
      "Requirement already satisfied: biopython in c:\\users\\hp\\appdata\\local\\programs\\python\\python311\\lib\\site-packages (1.83)\n",
      "Requirement already satisfied: numpy in c:\\users\\hp\\appdata\\local\\programs\\python\\python311\\lib\\site-packages (from biopython) (1.25.2)\n",
      "Note: you may need to restart the kernel to use updated packages.\n"
     ]
    },
    {
     "name": "stderr",
     "output_type": "stream",
     "text": [
      "\n",
      "[notice] A new release of pip is available: 23.1.2 -> 24.0\n",
      "[notice] To update, run: python.exe -m pip install --upgrade pip\n"
     ]
    }
   ],
   "source": [
    "%pip install biopython"
   ]
  },
  {
   "cell_type": "code",
   "execution_count": 4,
   "metadata": {},
   "outputs": [],
   "source": [
    "from Bio.SeqUtils import Seq"
   ]
  },
  {
   "cell_type": "code",
   "execution_count": 7,
   "metadata": {},
   "outputs": [
    {
     "name": "stdout",
     "output_type": "stream",
     "text": [
      "CTAGCTGATGCTAGCTGAT\n",
      "ACGCATGCTAGCCGATCGATC\n"
     ]
    }
   ],
   "source": [
    "# Define Sequences\n",
    "SeqA = Seq(\"CTAGCTGATGCTAGCTGAT\")\n",
    "SeqB = Seq(\"ACGCATGCTAGCCGATCGATC\")\n",
    "\n",
    "# Print Sequences\n",
    "print(SeqA)\n",
    "print(SeqB)"
   ]
  },
  {
   "cell_type": "code",
   "execution_count": 16,
   "metadata": {},
   "outputs": [
    {
     "name": "stdout",
     "output_type": "stream",
     "text": [
      "19\n",
      "21\n",
      "Cara_2:\n",
      "19\n",
      "21\n"
     ]
    }
   ],
   "source": [
    "# Length of Sequences\n",
    "print(len(SeqA))\n",
    "print(len(SeqB))\n",
    "# atau\n",
    "print(\"Cara_2:\")\n",
    "SeqA_length = len(SeqA)\n",
    "SeqB_length = len(SeqB)\n",
    "print(SeqA_length)\n",
    "print(SeqB_length)"
   ]
  },
  {
   "cell_type": "code",
   "execution_count": 24,
   "metadata": {},
   "outputs": [
    {
     "name": "stdout",
     "output_type": "stream",
     "text": [
      "CTAGC\n",
      "ACGCA\n",
      "Cara_2:\n",
      "CTAGC\n",
      "ACGCA\n",
      "Cara_3:\n",
      "TGATG\n",
      "CGCA\n",
      "Reversse Sequence:\n",
      "TAGTCGATCGTAGTCGATC\n",
      "CTAGCTAGCCGATCGTACGCA\n",
      "Cara_2:\n",
      "TAGTCGATCGTAGTCGATC\n",
      "CTAGCTAGCCGATCGTACGCA\n"
     ]
    }
   ],
   "source": [
    "# Slicing/ Indexing\n",
    "# Nmae Variable[Start:stop:step]\n",
    "print(SeqA[0:5])\n",
    "print(SeqB[0:5])\n",
    "# atau\n",
    "print(\"Cara_2:\")\n",
    "print(SeqA[:5])\n",
    "print(SeqB[:5])\n",
    "# atau\n",
    "print(\"Cara_3:\")\n",
    "SeqAslice = SeqA[5:10:1] # 10 itu index ke 10 tapi tidak diambil jadi 10-1 = 9\n",
    "SeqBslice = SeqB[1:5:]\n",
    "print(SeqAslice)\n",
    "print(SeqBslice)\n",
    "\n",
    "# Reverse Sequence\n",
    "print(\"Reversse Sequence:\")\n",
    "SeqA_reverse = SeqA[::-1]\n",
    "SeqB_reverse = SeqB[::-1]\n",
    "print(SeqA_reverse)\n",
    "print(SeqB_reverse)\n",
    "# atau\n",
    "print(\"Cara_2:\")\n",
    "print(SeqA[::-1])\n",
    "print(SeqB[::-1])"
   ]
  },
  {
   "cell_type": "code",
   "execution_count": 25,
   "metadata": {},
   "outputs": [
    {
     "name": "stdout",
     "output_type": "stream",
     "text": [
      "Join Sequence:\n",
      "CTAGCTGATGCTAGCTGATACGCATGCTAGCCGATCGATC\n",
      "Cara_2:\n",
      "CTAGCTGATGCTAGCTGATACGCATGCTAGCCGATCGATC\n"
     ]
    }
   ],
   "source": [
    "# Join Sequence\n",
    "print(\"Join Sequence:\")\n",
    "Seq_join = SeqA + SeqB\n",
    "print(Seq_join)\n",
    "# atau\n",
    "print(\"Cara_2:\")\n",
    "print(SeqA + SeqB)"
   ]
  },
  {
   "cell_type": "code",
   "execution_count": 29,
   "metadata": {},
   "outputs": [
    {
     "name": "stdout",
     "output_type": "stream",
     "text": [
      "Codon in Sequence:\n",
      "CTA\n",
      "ACG\n",
      "Cara_2:\n",
      "CTA\n",
      "ACG\n",
      "Find a Codon in Sequence:\n",
      "-1\n",
      "12\n",
      "Cara_2:\n",
      "-1\n",
      "12\n"
     ]
    }
   ],
   "source": [
    "# Codon in Sequence\n",
    "# basa DNA -> G C A T\n",
    "# 1 codon = 3 basa DNA \n",
    "print(\"Codon in Sequence:\")\n",
    "SeqA_codon = SeqA[0:3]\n",
    "SeqB_codon = SeqB[0:3]\n",
    "print(SeqA_codon)\n",
    "print(SeqB_codon)\n",
    "# atau\n",
    "print(\"Cara_2:\")\n",
    "print(SeqA[:3])\n",
    "print(SeqB[:3])\n",
    "\n",
    "# Find a Codon in Sequence\n",
    "# Find codon \"CGT\"\n",
    "print(\"Find a Codon in Sequence:\")\n",
    "SeqA_find = SeqA.find(\"CGT\")\n",
    "SeqB_find = SeqB.find(\"CGT\")\n",
    "print(SeqA_find)\n",
    "print(SeqB_find)\n",
    "# atau\n",
    "print(\"Cara_2:\")\n",
    "print(SeqA.find(\"CGT\"))\n",
    "print(SeqB.find(\"CGT\"))\n",
    "# -1 artinya tidak ada dalam sequence A dan B\n",
    "# contoh lain\n",
    "print(\"Find a Codon in Sequence:\")\n",
    "SeqA_find = SeqA.find(\"CGA\")\n",
    "SeqB_find = SeqB.find(\"CGA\")\n",
    "print(SeqA_find)\n",
    "print(SeqB_find)\n",
    "# atau\n",
    "print(\"Cara_2:\")\n",
    "print(SeqA.find(\"CGA\"))\n",
    "print(SeqB.find(\"CGA\"))\n",
    "# 12 itu nunjukin index ke 12"
   ]
  },
  {
   "cell_type": "code",
   "execution_count": 32,
   "metadata": {},
   "outputs": [],
   "source": [
    "# Find number of times pattern repeated in Sequence\n",
    "from Bio.SeqUtils import nt_search"
   ]
  },
  {
   "cell_type": "code",
   "execution_count": 37,
   "metadata": {},
   "outputs": [
    {
     "name": "stdout",
     "output_type": "stream",
     "text": [
      "Find number of times pattern repeated in Sequence:\n",
      "['CTA', 0, 10]\n",
      "['CTA', 7]\n",
      "Cara_2:\n",
      "['CTA', 0, 10]\n",
      "['CTA', 7]\n",
      "0\n"
     ]
    }
   ],
   "source": [
    "print(\"Find number of times pattern repeated in Sequence:\")\n",
    "SeqA_count = nt_search(str(SeqA), \"CTA\")\n",
    "SeqB_count = nt_search(str(SeqB), \"CTA\")\n",
    "print(SeqA_count)\n",
    "print(SeqB_count)\n",
    "# atau\n",
    "print(\"Cara_2:\")\n",
    "print(nt_search(str(SeqA), \"CTA\"))\n",
    "print(nt_search(str(SeqB), \"CTA\"))\n",
    "print(SeqA.find(\"CTA\"))\n",
    "# perbedaan find dan nt_search adalah find hanya menemukan 1 pattern saja abis itu berhenti\n",
    "# nt_search menemukan semua pattern yang ada"
   ]
  },
  {
   "cell_type": "code",
   "execution_count": 38,
   "metadata": {},
   "outputs": [
    {
     "name": "stdout",
     "output_type": "stream",
     "text": [
      "Count the number of Nucleotides in Sequence:\n",
      "4\n",
      "7\n",
      "Cara_2:\n",
      "4\n",
      "7\n"
     ]
    }
   ],
   "source": [
    "# Count the number of Nucleotides in Sequence\n",
    "print(\"Count the number of Nucleotides in Sequence:\")\n",
    "SeqA_count = SeqA.count(\"C\")\n",
    "SeqB_count = SeqB.count(\"C\")\n",
    "print(SeqA_count)\n",
    "print(SeqB_count)\n",
    "# atau\n",
    "print(\"Cara_2:\")\n",
    "print(SeqA.count(\"C\"))\n",
    "print(SeqB.count(\"C\"))"
   ]
  },
  {
   "cell_type": "code",
   "execution_count": 42,
   "metadata": {},
   "outputs": [
    {
     "name": "stdout",
     "output_type": "stream",
     "text": [
      "Subsequence Search:\n",
      "-1\n",
      "12\n",
      "Cara_2:\n",
      "5\n",
      "-1\n"
     ]
    }
   ],
   "source": [
    "# Subsequence Search\n",
    "print(\"Subsequence Search:\")\n",
    "SeqA_sub = SeqA.find(\"CGAT\")\n",
    "SeqB_sub = SeqB.find(\"CGAT\")\n",
    "print(SeqA_sub)\n",
    "print(SeqB_sub)\n",
    "# atau\n",
    "print(\"Cara_2:\")\n",
    "print(SeqA.find(\"TGATG\"))\n",
    "print(SeqB.find(\"TGATG\"))\n",
    "# -1 artinya tidak ada dalam sequence A dan B\n",
    "#  angka lain menunjukan index ke berapa subsequence tersebut ada"
   ]
  },
  {
   "cell_type": "code",
   "execution_count": 43,
   "metadata": {},
   "outputs": [],
   "source": [
    "# plot the nucleotide composition of a sequence\n",
    "from collections import Counter"
   ]
  },
  {
   "cell_type": "code",
   "execution_count": 44,
   "metadata": {},
   "outputs": [
    {
     "name": "stdout",
     "output_type": "stream",
     "text": [
      "Count Base / Nucleotide:\n",
      "Counter({'T': 6, 'G': 5, 'C': 4, 'A': 4})\n",
      "Counter({'C': 7, 'A': 5, 'G': 5, 'T': 4})\n",
      "Cara_2:\n",
      "Counter({'T': 6, 'G': 5, 'C': 4, 'A': 4})\n",
      "Counter({'C': 7, 'A': 5, 'G': 5, 'T': 4})\n"
     ]
    }
   ],
   "source": [
    "# Count Base / Nucleotide\n",
    "print(\"Count Base / Nucleotide:\")\n",
    "SeqA_count = Counter(SeqA)\n",
    "SeqB_count = Counter(SeqB)\n",
    "print(SeqA_count)\n",
    "print(SeqB_count)\n",
    "# atau\n",
    "print(\"Cara_2:\")\n",
    "print(Counter(SeqA))\n",
    "print(Counter(SeqB))"
   ]
  },
  {
   "cell_type": "code",
   "execution_count": 47,
   "metadata": {},
   "outputs": [
    {
     "name": "stdout",
     "output_type": "stream",
     "text": [
      "dict_keys(['C', 'T', 'A', 'G'])\n",
      "dict_values([4, 6, 4, 5])\n"
     ]
    }
   ],
   "source": [
    "keys = SeqA_count.keys()\n",
    "values = SeqA_count.values()\n",
    "print(keys)\n",
    "print(values)"
   ]
  },
  {
   "cell_type": "code",
   "execution_count": 45,
   "metadata": {},
   "outputs": [],
   "source": [
    "# diagram from the nucleotide composition of a sequence\n",
    "import matplotlib.pyplot as plt"
   ]
  },
  {
   "cell_type": "code",
   "execution_count": 51,
   "metadata": {},
   "outputs": [
    {
     "name": "stdout",
     "output_type": "stream",
     "text": [
      "Plot:\n"
     ]
    },
    {
     "data": {
      "image/png": "[encoded data removed]",
      "text/plain": [
       "<Figure size 640x480 with 1 Axes>"
      ]
     },
     "metadata": {},
     "output_type": "display_data"
    },
    {
     "data": {
      "image/png": "[encoded data removed]",
      "text/plain": [
       "<Figure size 640x480 with 1 Axes>"
      ]
     },
     "metadata": {},
     "output_type": "display_data"
    }
   ],
   "source": [
    "# Plot\n",
    "print(\"Plot:\")\n",
    "plt.bar(SeqA_count.keys(), SeqA_count.values())\n",
    "plt.title(\"Nucleotide Composition of Sequence A\")\n",
    "plt.xlabel(\"Nucleotide\")\n",
    "plt.ylabel(\"Value\")\n",
    "plt.show()\n",
    "plt.bar(SeqB_count.keys(), SeqB_count.values())\n",
    "plt.title(\"Nucleotide Composition of Sequence B\")\n",
    "plt.xlabel(\"Nucleotide\")\n",
    "plt.ylabel(\"Value\")\n",
    "plt.show()"
   ]
  }
 ],
 "metadata": {
  "kernelspec": {
   "display_name": "Python 3",
   "language": "python",
   "name": "python3"
  },
  "language_info": {
   "codemirror_mode": {
    "name": "ipython",
    "version": 3
   },
   "file_extension": ".py",
   "mimetype": "text/x-python",
   "name": "python",
   "nbconvert_exporter": "python",
   "pygments_lexer": "ipython3",
   "version": "3.11.4"
  }
 },
 "nbformat": 4,
 "nbformat_minor": 2
}
